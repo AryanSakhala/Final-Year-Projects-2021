{
 "cells": [
  {
   "cell_type": "code",
   "execution_count": 1,
   "id": "4bef53fa",
   "metadata": {},
   "outputs": [],
   "source": [
    "import mediapipe as mp\n",
    "import cv2#open cv--- computer vision\n",
    "import numpy as np#numpy is for array\n",
    "from mediapipe.framework.formats import landmark_pb2\n",
    "import time\n",
    "from math import sqrt\n",
    "import win32api\n",
    "\n",
    " \n",
    " \n",
    " \n",
    "mp_drawing = mp.solutions.drawing_utils\n",
    "mp_hands = mp.solutions.hands\n",
    "click=0\n",
    " \n",
    "video = cv2.VideoCapture(0)\n",
    " \n",
    "with mp_hands.Hands(min_detection_confidence=0.8, min_tracking_confidence=0.8) as hands: \n",
    "    while video.isOpened():\n",
    "        _, frame = video.read()\n",
    "        image = cv2.cvtColor(frame, cv2.COLOR_BGR2RGB)\n",
    "         \n",
    "        image = cv2.flip(image, 1)\n",
    " \n",
    "        imageHeight, imageWidth, _ = image.shape\n",
    " \n",
    "        results = hands.process(image)\n",
    "   \n",
    " \n",
    "        image = cv2.cvtColor(image, cv2.COLOR_RGB2BGR)\n",
    "  \n",
    "        if results.multi_hand_landmarks:\n",
    "            for num, hand in enumerate(results.multi_hand_landmarks):\n",
    "                mp_drawing.draw_landmarks(image, hand, mp_hands.HAND_CONNECTIONS, \n",
    "                                        mp_drawing.DrawingSpec(color=(250, 44, 250), thickness=2, circle_radius=2),\n",
    "                                         )\n",
    " \n",
    "        if results.multi_hand_landmarks != None:\n",
    "          for handLandmarks in results.multi_hand_landmarks:\n",
    "            for point in mp_hands.HandLandmark:\n",
    " \n",
    "    \n",
    "                normalizedLandmark = handLandmarks.landmark[point]\n",
    "                pixelCoordinatesLandmark = mp_drawing._normalized_to_pixel_coordinates(normalizedLandmark.x, normalizedLandmark.y, imageWidth, imageHeight)\n",
    "    \n",
    "                point=str(point)\n",
    " \n",
    "                if point=='HandLandmark.INDEX_FINGER_TIP':\n",
    "                 try:\n",
    "                    indexfingertip_x=pixelCoordinatesLandmark[0]#x,y\n",
    "                    indexfingertip_y=pixelCoordinatesLandmark[1]\n",
    "                    win32api.SetCursorPos((indexfingertip_x*4,indexfingertip_y*5))\n",
    " \n",
    "                 except:\n",
    "                    pass\n",
    " \n",
    "                elif point=='HandLandmark.THUMB_TIP':\n",
    "                 try:\n",
    "                    thumbfingertip_x=pixelCoordinatesLandmark[0]\n",
    "                    thumbfingertip_y=pixelCoordinatesLandmark[1]\n",
    "                    #print(\"thumb\",thumbfingertip_x)\n",
    " \n",
    "                 except:\n",
    "                    pass\n",
    " \n",
    "               \n",
    " \n",
    "        cv2.imshow('Hand Tracking', image)\n",
    " \n",
    "        k = cv2.waitKey(1) & 0xFF\n",
    "    \n",
    "    # Check if 'ESC' is pressed.\n",
    "        if(k == 27):\n",
    "        \n",
    "        # Break the loop.\n",
    "            break\n",
    "\n",
    "video.release()\n",
    "cv2.destroyAllWindows()\n"
   ]
  },
  {
   "cell_type": "code",
   "execution_count": 7,
   "id": "1db34750",
   "metadata": {},
   "outputs": [
    {
     "data": {
      "text/plain": [
       "0"
      ]
     },
     "execution_count": 7,
     "metadata": {},
     "output_type": "execute_result"
    }
   ],
   "source": []
  },
  {
   "cell_type": "code",
   "execution_count": 6,
   "id": "05a6d6d4",
   "metadata": {},
   "outputs": [],
   "source": []
  },
  {
   "cell_type": "code",
   "execution_count": null,
   "id": "3799a1be",
   "metadata": {},
   "outputs": [],
   "source": []
  }
 ],
 "metadata": {
  "kernelspec": {
   "display_name": "Python 3",
   "language": "python",
   "name": "python3"
  },
  "language_info": {
   "codemirror_mode": {
    "name": "ipython",
    "version": 3
   },
   "file_extension": ".py",
   "mimetype": "text/x-python",
   "name": "python",
   "nbconvert_exporter": "python",
   "pygments_lexer": "ipython3",
   "version": "3.8.8"
  }
 },
 "nbformat": 4,
 "nbformat_minor": 5
}
