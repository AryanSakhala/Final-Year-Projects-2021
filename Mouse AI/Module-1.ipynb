{
 "cells": [
  {
   "cell_type": "markdown",
   "id": "171d3eb9",
   "metadata": {},
   "source": [
    "# IMPORTING LIBRARIES"
   ]
  },
  {
   "cell_type": "code",
   "execution_count": 1,
   "id": "9965421e",
   "metadata": {},
   "outputs": [],
   "source": [
    "import mediapipe as mp\n",
    "import cv2#open cv--- computer vision\n",
    "import numpy as np#numpy is for array\n",
    "from mediapipe.framework.formats import landmark_pb2\n",
    "import time\n",
    "from math import sqrt\n",
    "import win32api"
   ]
  },
  {
   "cell_type": "markdown",
   "id": "15be89cc",
   "metadata": {},
   "source": [
    "# CODE"
   ]
  },
  {
   "cell_type": "code",
   "execution_count": 3,
   "id": "4bef53fa",
   "metadata": {},
   "outputs": [],
   "source": [
    "\n",
    "mp_drawing = mp.solutions.drawing_utils # Drawing utils\n",
    "mp_hands = mp.solutions.hands \n",
    "\n",
    " \n",
    "video = cv2.VideoCapture(0)#Starts the video [0---> computer camera / 1-----> external camera]\n",
    " \n",
    "with mp_hands.Hands(min_detection_confidence=0.8, min_tracking_confidence=0.8) as hands: \n",
    "    while video.isOpened():\n",
    "        _, frame = video.read()# return 2 value [1. success of video , 2. Frame of video]\n",
    "        image = cv2.cvtColor(frame, cv2.COLOR_BGR2RGB)#BGR--> RGB cv2 uses bgr value and media pipe uses rgb value\n",
    "         \n",
    "        image = cv2.flip(image, 1)\n",
    " \n",
    "        imageHeight, imageWidth, _ = image.shape # strore image height and image width\n",
    " \n",
    "        results = hands.process(image) # mediapipe hands function is used on image\n",
    "   \n",
    " \n",
    "        image = cv2.cvtColor(image, cv2.COLOR_RGB2BGR)# converting back to bgr for cv2 to use\n",
    "  \n",
    "        if results.multi_hand_landmarks:# if result contains hand landmark then go inside the loop\n",
    "            for num, hand in enumerate(results.multi_hand_landmarks):\n",
    "                mp_drawing.draw_landmarks(image, hand, mp_hands.HAND_CONNECTIONS, #DRAW THE LANDMARKS OF HAND POINTS USING DRAW UTILS\n",
    "                                        mp_drawing.DrawingSpec(color=(250, 44, 250), thickness=2, circle_radius=2),\n",
    "                                         )\n",
    " \n",
    "        if results.multi_hand_landmarks != None:# if landmark is not empty then go inside the loop\n",
    "          for handLandmarks in results.multi_hand_landmarks:\n",
    "            for point in mp_hands.HandLandmark:\n",
    " \n",
    "    \n",
    "                normalizedLandmark = handLandmarks.landmark[point]# FUNCTION NTO NORMALIZE [ ANALOGOUS AS SCALING ]\n",
    "                pixelCoordinatesLandmark = mp_drawing._normalized_to_pixel_coordinates(normalizedLandmark.x, normalizedLandmark.y, imageWidth, imageHeight)\n",
    "    \n",
    "                point=str(point)\n",
    " \n",
    "                if point=='HandLandmark.INDEX_FINGER_TIP':# IF I GET INDEX FINGER TIP CONTINUE INSIDE THE LOOP\n",
    "                 try:\n",
    "                    indexfingertip_x=pixelCoordinatesLandmark[0]# NORMALIZE X CORDINATE OF INDEX FINGER TIP \n",
    "                    indexfingertip_y=pixelCoordinatesLandmark[1]# NORMALIZE Y CORDINATE OF INDEX FINGER TIP\n",
    "                    win32api.SetCursorPos((indexfingertip_x*4,indexfingertip_y*5))# CURSOR POSITION IS SET IN WINDOWS \n",
    " \n",
    "                 except:\n",
    "                    pass\n",
    " \n",
    "                elif point=='HandLandmark.THUMB_TIP':# IF I GET THUMB FINGER TIP CONTINUE INSIDE THE LOOP\n",
    "                 try:\n",
    "                    thumbfingertip_x=pixelCoordinatesLandmark[0]# NORMALIZE X CORDINATE OF THUMB FINGER TIP\n",
    "                    thumbfingertip_y=pixelCoordinatesLandmark[1]# NORMALIZE Y CORDINATE OF THUMB FINGER TIP\n",
    "                    #print(\"thumb\",thumbfingertip_x)\n",
    " \n",
    "                 except:\n",
    "                    pass\n",
    " \n",
    "               \n",
    " \n",
    "        cv2.imshow('Hand Tracking', image)# SHOWS THE IMAGE ON SCREEN\n",
    "\n",
    "\n",
    "        \n",
    " #------------------------------------------------------------ Esc button -----> Exit \n",
    "        k = cv2.waitKey(1) & 0xFF\n",
    "    \n",
    "        # Check if 'ESC' is pressed.\n",
    "        if(k == 27):\n",
    "        \n",
    "        # Break the loop.\n",
    "            break\n",
    "#----------------------------------------------------------------------------------\n",
    "video.release()#Video stops\n",
    "cv2.destroyAllWindows()# Clear the window\n"
   ]
  }
 ],
 "metadata": {
  "kernelspec": {
   "display_name": "Python 3",
   "language": "python",
   "name": "python3"
  },
  "language_info": {
   "codemirror_mode": {
    "name": "ipython",
    "version": 3
   },
   "file_extension": ".py",
   "mimetype": "text/x-python",
   "name": "python",
   "nbconvert_exporter": "python",
   "pygments_lexer": "ipython3",
   "version": "3.8.8"
  }
 },
 "nbformat": 4,
 "nbformat_minor": 5
}
