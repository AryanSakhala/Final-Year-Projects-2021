{
 "cells": [
  {
   "cell_type": "code",
   "execution_count": 1,
   "id": "4bef53fa",
   "metadata": {},
   "outputs": [],
   "source": [
    "# Import the gTTS module for text  \n",
    "# to speech conversion  \n",
    "from gtts import gTTS  \n",
    "  \n",
    "# This module is imported so that we can  \n",
    "# play the converted audio  \n",
    "  \n",
    "from playsound import playsound  \n",
    "  \n",
    "# It is a text value that we want to convert to audio  \n",
    "text_val = 'Correct Yoga Pose.'  \n",
    "  \n",
    "# Here are converting in English Language  \n",
    "language = 'en'  \n",
    "  \n",
    "# Passing the text and language to the engine,  \n",
    "# here we have assign slow=False. Which denotes  \n",
    "# the module that the transformed audio should  \n",
    "# have a high speed  \n",
    "obj = gTTS(text=text_val, lang=language, slow=False)  \n",
    "  \n",
    "#Here we are saving the transformed audio in a mp3 file named  \n",
    "# exam.mp3  \n",
    "obj.save(\"yoga.mp3\")  \n",
    "  \n"
   ]
  },
  {
   "cell_type": "code",
   "execution_count": 7,
   "id": "1db34750",
   "metadata": {},
   "outputs": [
    {
     "data": {
      "text/plain": [
       "0"
      ]
     },
     "execution_count": 7,
     "metadata": {},
     "output_type": "execute_result"
    }
   ],
   "source": [
    "import os\n",
    "os.system(\"yoga.mp3\")"
   ]
  },
  {
   "cell_type": "code",
   "execution_count": 6,
   "id": "05a6d6d4",
   "metadata": {},
   "outputs": [],
   "source": [
    "import pyttsx3  \n",
    "# initialize Text-to-speech engine  \n",
    "engine = pyttsx3.init()  \n",
    "# convert this text to speech  \n",
    "text = \"Correct\"  \n",
    "engine.say(text)  \n",
    "# play the speech  \n",
    "engine.runAndWait()  "
   ]
  },
  {
   "cell_type": "code",
   "execution_count": null,
   "id": "3799a1be",
   "metadata": {},
   "outputs": [],
   "source": []
  }
 ],
 "metadata": {
  "kernelspec": {
   "display_name": "Python 3",
   "language": "python",
   "name": "python3"
  },
  "language_info": {
   "codemirror_mode": {
    "name": "ipython",
    "version": 3
   },
   "file_extension": ".py",
   "mimetype": "text/x-python",
   "name": "python",
   "nbconvert_exporter": "python",
   "pygments_lexer": "ipython3",
   "version": "3.8.8"
  }
 },
 "nbformat": 4,
 "nbformat_minor": 5
}
